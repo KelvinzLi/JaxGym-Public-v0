{
 "cells": [
  {
   "cell_type": "code",
   "execution_count": 1,
   "id": "810b057c-be6b-4fec-b01c-02b2654b497d",
   "metadata": {},
   "outputs": [],
   "source": [
    "%load_ext autoreload\n",
    "%autoreload 2"
   ]
  },
  {
   "cell_type": "code",
   "execution_count": 2,
   "id": "56ec0cf4-8dfc-420f-9b2f-e9b23d61ba25",
   "metadata": {},
   "outputs": [],
   "source": [
    "import sys\n",
    "\n",
    "sys.path.append(\"/notebooks/JAXGym\")"
   ]
  },
  {
   "cell_type": "code",
   "execution_count": 3,
   "id": "e3b8056e-fc12-4db0-99d5-a408c39a3b61",
   "metadata": {},
   "outputs": [],
   "source": [
    "import jax\n",
    "import jax.numpy as jnp\n",
    "\n",
    "import flax\n",
    "from flax import linen as nn  # Linen API\n",
    "from flax.training import train_state  # Useful dataclass to keep train state\n",
    "from flax import struct                # Flax dataclasses\n",
    "import optax                           # Common loss functions and optimizers\n",
    "\n",
    "from flax.training.train_state import TrainState\n",
    "\n",
    "import gymnax\n",
    "\n",
    "import matplotlib.pyplot as plt"
   ]
  },
  {
   "cell_type": "code",
   "execution_count": 4,
   "id": "091580b0-dd1f-4249-891d-9d8dd5c8b080",
   "metadata": {},
   "outputs": [],
   "source": [
    "from models.base_model import NormalDistPredictor\n",
    "from models.conv_rnn_model import BaseLSTMModel, RNNRouter\n",
    "\n",
    "# from agents.REINFORCE_continuous import ActorCriticContinuous\n",
    "from agents.PPO_RNN import PPORNNDiscrete\n",
    "from agents.advantage_estimator import state_value_estimator, gae_estimator\n",
    "\n",
    "from trainer import build_trainer\n",
    "\n",
    "from utils.callbacks import versatile_callback"
   ]
  },
  {
   "cell_type": "code",
   "execution_count": 26,
   "id": "394865f6-13b6-4aae-a703-fa3f13bad79b",
   "metadata": {},
   "outputs": [],
   "source": [
    "actor_lr = 1e-4\n",
    "critic_lr = 1e-3\n",
    "\n",
    "hidden_size = 64\n",
    "\n",
    "discount = 0.99\n",
    "\n",
    "clip_ratio = 0.2\n",
    "\n",
    "# discount = 0.9\n",
    "\n",
    "# clip_ratio = 0.05\n",
    "\n",
    "# ppo_steps = 8\n",
    "ppo_steps = 8\n",
    "\n",
    "num_envs = 64\n",
    "\n",
    "iters = 200\n",
    "\n",
    "# num_envs = 16\n",
    "\n",
    "# iters = 5000\n",
    "\n",
    "max_episode_steps = 1000\n",
    "\n",
    "env_name = \"Breakout-MinAtar\""
   ]
  },
  {
   "cell_type": "code",
   "execution_count": 6,
   "id": "90e7bb76-b55a-4180-bc44-f4c2be83dc9e",
   "metadata": {},
   "outputs": [],
   "source": [
    "env, env_params = gymnax.make(env_name)\n",
    "\n",
    "obs_size = env.observation_space(env_params).shape\n",
    "action_num = env.action_space(env_params).n\n",
    "action_size = 1"
   ]
  },
  {
   "cell_type": "code",
   "execution_count": 27,
   "id": "8d526b08-acb9-4d46-a12d-bd9c160a5e80",
   "metadata": {},
   "outputs": [
    {
     "name": "stderr",
     "output_type": "stream",
     "text": [
      "100%|██████████| 200/200 [11:41<00:00,  3.39s/it, episode_reward=5.6192513] "
     ]
    }
   ],
   "source": [
    "cpu_device = jax.devices('cpu')[0]\n",
    "gpu_device = jax.devices('gpu')[0]\n",
    "\n",
    "start_lr, end_lr = 5e-5, 1e-6\n",
    "steps = ppo_steps * iters\n",
    "lr_scheduler = optax.linear_schedule(\n",
    "  init_value=start_lr,\n",
    "  end_value=end_lr,\n",
    "  transition_steps=steps,\n",
    ")\n",
    "\n",
    "with jax.default_device(gpu_device):\n",
    "    key = jax.random.PRNGKey(43)\n",
    "    \n",
    "    obs_dummy = jnp.ones([1, 1, *obs_size])\n",
    "    done_dummy = jnp.ones([1, 1, 1])\n",
    "    actor_init_key, critic_init_key, key = jax.random.split(key, 3)\n",
    "    \n",
    "    actor_model = nn.Sequential([BaseLSTMModel(hidden_size = hidden_size, num_layers = 2, num_early_layers = 1), RNNRouter(nn.Dense(features = action_num))])\n",
    "    actor_params = actor_model.init(actor_init_key, obs_dummy, done_dummy)['params']\n",
    "    actor_tx = optax.chain(\n",
    "       optax.clip_by_global_norm(0.5),\n",
    "       # optax.clip(1e-6),\n",
    "       optax.adamw(actor_lr, 0.99, 0.99),\n",
    "       # optax.clip_by_global_norm(0.5),\n",
    "       # optax.sgd(lr_scheduler),\n",
    "    )\n",
    "    actor = TrainState.create(apply_fn=actor_model.apply,\n",
    "                              params=actor_params,\n",
    "                              tx=actor_tx,\n",
    "                              )\n",
    "    \n",
    "    critic_model = nn.Sequential([BaseLSTMModel(hidden_size = hidden_size, num_layers = 2, num_early_layers = 1), RNNRouter(nn.Dense(features = 1))])\n",
    "    critic_params = critic_model.init(critic_init_key, obs_dummy, done_dummy)['params']\n",
    "    critic_tx = optax.chain(\n",
    "       optax.clip_by_global_norm(0.5),\n",
    "       # optax.clip(1e-6),\n",
    "       optax.adamw(critic_lr, 0.99, 0.99),\n",
    "       # optax.clip_by_global_norm(0.5),\n",
    "       # optax.sgd(lr_scheduler),\n",
    "    )\n",
    "    critic = TrainState.create(apply_fn=critic_model.apply,\n",
    "                              params=critic_params,\n",
    "                              tx=critic_tx,\n",
    "                              )\n",
    "\n",
    "    # def entropy_scheduler():\n",
    "        \n",
    "    \n",
    "    agent = PPORNNDiscrete(gae_estimator(discount, 0.95), clip_ratio, ppo_steps, target_kl = 1e-2, entropy_coef = 0.01)\n",
    "    \n",
    "    callback = versatile_callback(iters, tqdm_keys = [\"episode_reward\"])\n",
    "\n",
    "    rnn_carry_initializer = lambda k: nn.OptimizedLSTMCell(hidden_size, parent=None).initialize_carry(k, (num_envs, hidden_size))\n",
    "\n",
    "    fori_body = build_trainer(agent, env, env_params, num_envs, obs_size, action_size, max_episode_steps, callback, use_rnn_agent = True, rnn_carry_initializer = rnn_carry_initializer)\n",
    "    \n",
    "    carry = (actor, critic, key)\n",
    "    carry = jax.lax.fori_loop(0, iters, fori_body, carry)"
   ]
  },
  {
   "cell_type": "code",
   "execution_count": 30,
   "id": "3a4e4bf0-4d19-4b50-b228-7cd30047e8e8",
   "metadata": {},
   "outputs": [
    {
     "data": {
      "image/png": "[encoded data removed]",
      "text/plain": [
       "<Figure size 640x480 with 1 Axes>"
      ]
     },
     "metadata": {},
     "output_type": "display_data"
    }
   ],
   "source": [
    "plt.clf()\n",
    "plt.gca().set_aspect('auto')\n",
    "plt.plot(callback.history[\"episode_reward\"])\n",
    "plt.show()"
   ]
  },
  {
   "cell_type": "code",
   "execution_count": 31,
   "id": "1672988d-71dd-46ce-8356-133bb8f27e88",
   "metadata": {},
   "outputs": [
    {
     "data": {
      "application/vnd.jupyter.widget-view+json": {
       "model_id": "95f00432b8894348bfd2d6e250d0f5fc",
       "version_major": 2,
       "version_minor": 0
      },
      "text/plain": [
       "  0%|          | 0/500 [00:00<?, ?it/s]"
      ]
     },
     "metadata": {},
     "output_type": "display_data"
    }
   ],
   "source": [
    "from utils.render import save_frames_as_gif\n",
    "\n",
    "from IPython.display import Image\n",
    "from tqdm.notebook import tqdm\n",
    "\n",
    "import numpy as np\n",
    "\n",
    "actor = carry[0]\n",
    "\n",
    "# gym_env = gym.make(\"'MinAtar/Breakout-v0\", render_mode=\"rgb_array\")\n",
    "\n",
    "key = jax.random.PRNGKey(0)\n",
    "\n",
    "c = nn.OptimizedLSTMCell(hidden_size, parent=None).initialize_carry(key, (1, hidden_size))\n",
    "done = jnp.ones((1, 1, 1))\n",
    "\n",
    "obs, env_state = env.reset(key, env_params)\n",
    "frames = []\n",
    "for t in tqdm(range(500)):\n",
    "    key = jax.random.split(key)[0]\n",
    "    \n",
    "    frames.append(obs)\n",
    "    c, action = agent.suggest_action(jnp.expand_dims(obs, (0, 1)), c, jnp.reshape(done, (1, 1)), actor)\n",
    "    action = action.item()\n",
    "    \n",
    "    obs, env_state, reward, done, _ = env.step(key, env_state, action, env_params)\n",
    "    if done:\n",
    "        break"
   ]
  },
  {
   "cell_type": "code",
   "execution_count": 44,
   "id": "c1bdffab-d407-4323-9be1-9add9106dc5d",
   "metadata": {},
   "outputs": [],
   "source": [
    "vis_frames = []\n",
    "\n",
    "for ii, obs in enumerate(frames):\n",
    "    color1 = jnp.array([0.01, 0.01, 0.01])\n",
    "    color2 = jnp.array([1, 0, 0])\n",
    "    color3 = jnp.array([0, 1, 0]) \n",
    "    color4 = jnp.array([0, 0, 1]) \n",
    "    color0 = jnp.array([1, 1, 1])\n",
    "            \n",
    "    color1 = jnp.expand_dims(color1, axis = (0, 1))\n",
    "    color2 = jnp.expand_dims(color2, axis = (0, 1))\n",
    "    color3 = jnp.expand_dims(color3, axis = (0, 1))\n",
    "    color4 = jnp.expand_dims(color4, axis = (0, 1))\n",
    "    color0 = jnp.expand_dims(color0, axis = (0, 1))\n",
    "    \n",
    "    vis = jnp.where(obs[:, :, [0]] == 1, color1, color0)\n",
    "    # vis = jnp.where(obs[:, :, [1]] == 1, color2, vis)\n",
    "    # vis = jnp.where(obs[:, :, [2]] == 1, color3, vis)\n",
    "    vis = jnp.where(obs[:, :, [3]] == 1, color4, vis)\n",
    "\n",
    "    vis = jnp.where(obs[:, :, [1]] == 1, color2, vis)\n",
    "    vis = jnp.where(obs[:, :, [2]] == 1, color3, vis)\n",
    "\n",
    "    vis_frames.append(vis)"
   ]
  },
  {
   "cell_type": "code",
   "execution_count": 45,
   "id": "d8dcafb3-8b0a-4a48-bdfc-71110f6b2039",
   "metadata": {},
   "outputs": [
    {
     "name": "stderr",
     "output_type": "stream",
     "text": [
      "WARNING:matplotlib.animation:MovieWriter imagemagick unavailable; using Pillow instead.\n"
     ]
    },
    {
     "data": {
      "image/png": "[encoded data removed]",
      "text/plain": [
       "<IPython.core.display.Image object>"
      ]
     },
     "execution_count": 45,
     "metadata": {},
     "output_type": "execute_result"
    }
   ],
   "source": [
    "from matplotlib import animation\n",
    "import matplotlib.pyplot as plt\n",
    "\n",
    "def save_frames_as_gif(frames, path='./', filename='gym_animation.gif'):\n",
    "    plt.ioff()\n",
    "    \n",
    "    #Mess with this to change frame size\n",
    "    plt.figure(figsize=(frames[0].shape[1] / 2.0, frames[0].shape[0] / 2.0), dpi=72)\n",
    "\n",
    "    patch = plt.imshow(frames[0])\n",
    "    plt.axis('off')\n",
    "\n",
    "    def animate(i):\n",
    "        patch.set_data(frames[i])\n",
    "\n",
    "    anim = animation.FuncAnimation(plt.gcf(), animate, frames = len(frames), interval=50)\n",
    "    anim.save(path + filename, writer='imagemagick', fps=5)\n",
    "\n",
    "save_frames_as_gif(vis_frames, filename = \"tmp.gif\")\n",
    "\n",
    "Image(open('tmp.gif','rb').read())"
   ]
  }
 ],
 "metadata": {
  "kernelspec": {
   "display_name": "Python 3 (ipykernel)",
   "language": "python",
   "name": "python3"
  },
  "language_info": {
   "codemirror_mode": {
    "name": "ipython",
    "version": 3
   },
   "file_extension": ".py",
   "mimetype": "text/x-python",
   "name": "python",
   "nbconvert_exporter": "python",
   "pygments_lexer": "ipython3",
   "version": "3.10.12"
  }
 },
 "nbformat": 4,
 "nbformat_minor": 5
}
