{
 "cells": [
  {
   "cell_type": "code",
   "execution_count": 1,
   "id": "810b057c-be6b-4fec-b01c-02b2654b497d",
   "metadata": {},
   "outputs": [],
   "source": [
    "%load_ext autoreload\n",
    "%autoreload 2"
   ]
  },
  {
   "cell_type": "code",
   "execution_count": 2,
   "id": "56ec0cf4-8dfc-420f-9b2f-e9b23d61ba25",
   "metadata": {},
   "outputs": [],
   "source": [
    "import sys\n",
    "\n",
    "sys.path.append(\"../../../\")"
   ]
  },
  {
   "cell_type": "code",
   "execution_count": 3,
   "id": "e3b8056e-fc12-4db0-99d5-a408c39a3b61",
   "metadata": {},
   "outputs": [],
   "source": [
    "import jax\n",
    "import jax.numpy as jnp\n",
    "\n",
    "import flax\n",
    "from flax import linen as nn  # Linen API\n",
    "from flax.training import train_state  # Useful dataclass to keep train state\n",
    "from flax import struct                # Flax dataclasses\n",
    "import optax                           # Common loss functions and optimizers\n",
    "\n",
    "from flax.training.train_state import TrainState\n",
    "\n",
    "from envs.grid_world_v3 import GridWorld\n",
    "from gymnax.wrappers.purerl import FlattenObservationWrapper\n",
    "\n",
    "import matplotlib.pyplot as plt"
   ]
  },
  {
   "cell_type": "code",
   "execution_count": 4,
   "id": "091580b0-dd1f-4249-891d-9d8dd5c8b080",
   "metadata": {},
   "outputs": [],
   "source": [
    "from models.base_model import NormalDistPredictor\n",
    "from models.conv_rnn_model import BaseLSTMModel, RNNRouter\n",
    "\n",
    "# from agents.REINFORCE_continuous import ActorCriticContinuous\n",
    "from agents.PPO_RNN import PPORNNDiscrete\n",
    "from agents.advantage_estimator import state_value_estimator, gae_estimator\n",
    "\n",
    "from trainer import build_trainer\n",
    "\n",
    "from utils.callbacks import tqdm_callback"
   ]
  },
  {
   "cell_type": "code",
   "execution_count": 5,
   "id": "394865f6-13b6-4aae-a703-fa3f13bad79b",
   "metadata": {},
   "outputs": [],
   "source": [
    "actor_lr = 5e-5\n",
    "critic_lr = 5e-5\n",
    "\n",
    "hidden_size = 64\n",
    "\n",
    "discount = 0.99\n",
    "\n",
    "clip_ratio = 0.2\n",
    "\n",
    "# discount = 0.9\n",
    "\n",
    "# clip_ratio = 0.05\n",
    "\n",
    "# ppo_steps = 8\n",
    "ppo_steps = 8\n",
    "\n",
    "num_envs = 128\n",
    "\n",
    "iters = 5000\n",
    "\n",
    "# num_envs = 16\n",
    "\n",
    "# iters = 5000\n",
    "\n",
    "max_episode_steps = 300\n",
    "\n",
    "# env_name = \"CartPole-v1\""
   ]
  },
  {
   "cell_type": "code",
   "execution_count": 6,
   "id": "90e7bb76-b55a-4180-bc44-f4c2be83dc9e",
   "metadata": {},
   "outputs": [],
   "source": [
    "# env = FlattenObservationWrapper(GridWorld(grid_size = (5, 5), view_size = (3, 3), camera_distance = 1, noise_thres = 2.5, max_steps_in_episode = 100))\n",
    "# env = GridWorld(grid_size = (5, 5), view_size = (3, 3), camera_distance = 0, noise_thres = 2.5, max_steps_in_episode = 100)\n",
    "\n",
    "\n",
    "env = GridWorld(grid_size = (10, 10), view_size = (3, 3), camera_distance = 0, noise_thres = 1.5, max_steps_in_episode = 300)\n",
    "# env = GridWorld(grid_size = (10, 10), view_size = (5, 5), camera_distance = 0, noise_thres = 1.5, max_steps_in_episode = 400)\n",
    "# env = FlattenObservationWrapper(GridWorld(grid_size = (10, 10), view_size = (5, 5), camera_distance = 2, noise_thres = 2, max_steps_in_episode = 400))\n",
    "env_params = env.default_params\n",
    "\n",
    "obs_size = env.observation_space(env_params).shape\n",
    "action_num = env.action_space(env_params).n\n",
    "action_size = 1"
   ]
  },
  {
   "cell_type": "code",
   "execution_count": 7,
   "id": "8d526b08-acb9-4d46-a12d-bd9c160a5e80",
   "metadata": {},
   "outputs": [
    {
     "name": "stderr",
     "output_type": "stream",
     "text": [
      "  0%|          | 0/5000 [00:00<?, ?it/s]"
     ]
    },
    {
     "name": "stdout",
     "output_type": "stream",
     "text": [
      "reset <class 'int'>\n"
     ]
    },
    {
     "name": "stderr",
     "output_type": "stream",
     "text": [
      "100%|██████████| 5000/5000 [1:00:20<00:00,  1.38it/s, Reward=0.8150903, Total reward=334.187, actions=[0. 1. 2. 3.], aux=0.8596694]    "
     ]
    }
   ],
   "source": [
    "cpu_device = jax.devices('cpu')[0]\n",
    "gpu_device = jax.devices('gpu')[0]\n",
    "\n",
    "start_lr, end_lr = 5e-5, 1e-6\n",
    "steps = ppo_steps * iters\n",
    "lr_scheduler = optax.linear_schedule(\n",
    "  init_value=start_lr,\n",
    "  end_value=end_lr,\n",
    "  transition_steps=steps,\n",
    ")\n",
    "\n",
    "with jax.default_device(gpu_device):\n",
    "    key = jax.random.PRNGKey(43)\n",
    "    \n",
    "    obs_dummy = jnp.ones([1, 1, *obs_size])\n",
    "    done_dummy = jnp.ones([1, 1, 1])\n",
    "    actor_init_key, critic_init_key, key = jax.random.split(key, 3)\n",
    "    \n",
    "    actor_model = nn.Sequential([BaseLSTMModel(hidden_size = hidden_size, num_layers = 1, num_early_layers = 1), RNNRouter(nn.Dense(features = action_num))])\n",
    "    actor_params = actor_model.init(actor_init_key, obs_dummy, done_dummy)['params']\n",
    "    actor_tx = optax.chain(\n",
    "       optax.clip_by_global_norm(0.5),\n",
    "       # optax.clip(1e-6),\n",
    "       optax.adamw(lr_scheduler, 0.99, 0.99),\n",
    "       # optax.clip_by_global_norm(0.5),\n",
    "       # optax.sgd(lr_scheduler),\n",
    "    )\n",
    "    actor = TrainState.create(apply_fn=actor_model.apply,\n",
    "                              params=actor_params,\n",
    "                              tx=actor_tx,\n",
    "                              )\n",
    "    \n",
    "    critic_model = nn.Sequential([BaseLSTMModel(hidden_size = hidden_size, num_layers = 1, num_early_layers = 1), RNNRouter(nn.Dense(features = 1))])\n",
    "    critic_params = critic_model.init(critic_init_key, obs_dummy, done_dummy)['params']\n",
    "    critic_tx = optax.chain(\n",
    "       optax.clip_by_global_norm(0.5),\n",
    "       # optax.clip(1e-6),\n",
    "       optax.adamw(lr_scheduler, 0.99, 0.99),\n",
    "       # optax.clip_by_global_norm(0.5),\n",
    "       # optax.sgd(lr_scheduler),\n",
    "    )\n",
    "    critic = TrainState.create(apply_fn=critic_model.apply,\n",
    "                              params=critic_params,\n",
    "                              tx=critic_tx,\n",
    "                              )\n",
    "\n",
    "    # def entropy_scheduler():\n",
    "        \n",
    "    \n",
    "    agent = PPORNNDiscrete(gae_estimator(discount, 0.95), clip_ratio, ppo_steps, target_kl = 1e-2, entropy_coef = 0.01)\n",
    "    \n",
    "    logger = jnp.zeros((iters, 1))\n",
    "\n",
    "    rnn_carry_initializer = lambda k: nn.OptimizedLSTMCell(hidden_size, parent=None).initialize_carry(k, (num_envs, hidden_size))\n",
    "\n",
    "    fori_body = build_trainer(agent, env, env_params, num_envs, obs_size, action_size, max_episode_steps, tqdm_callback(iters), use_rnn_agent = True, rnn_carry_initializer = rnn_carry_initializer)\n",
    "    \n",
    "    carry = (actor, critic, logger, key)\n",
    "    carry = jax.lax.fori_loop(0, iters, fori_body, carry)"
   ]
  },
  {
   "cell_type": "code",
   "execution_count": 8,
   "id": "921af09f-8486-44f9-8899-a03b0c8e0773",
   "metadata": {},
   "outputs": [
    {
     "data": {
      "text/plain": [
       "<function __main__.<lambda>()>"
      ]
     },
     "execution_count": 8,
     "metadata": {},
     "output_type": "execute_result"
    }
   ],
   "source": [
    "a = lambda: 1\n",
    "b = a\n",
    "b"
   ]
  },
  {
   "cell_type": "code",
   "execution_count": 9,
   "id": "3a4e4bf0-4d19-4b50-b228-7cd30047e8e8",
   "metadata": {},
   "outputs": [
    {
     "data": {
      "image/png": "[encoded data removed]",
      "text/plain": [
       "<Figure size 640x480 with 1 Axes>"
      ]
     },
     "metadata": {},
     "output_type": "display_data"
    }
   ],
   "source": [
    "plt.clf()\n",
    "plt.gca().set_aspect('auto')\n",
    "plt.plot(carry[-2][:])\n",
    "plt.show()"
   ]
  },
  {
   "cell_type": "code",
   "execution_count": 10,
   "id": "15b0270f-319c-4516-8e30-05bac96d0b31",
   "metadata": {},
   "outputs": [],
   "source": [
    "actor = carry[0]"
   ]
  },
  {
   "cell_type": "code",
   "execution_count": 48,
   "id": "1672988d-71dd-46ce-8356-133bb8f27e88",
   "metadata": {},
   "outputs": [
    {
     "name": "stdout",
     "output_type": "stream",
     "text": [
      "[9 0]\n"
     ]
    },
    {
     "data": {
      "application/vnd.jupyter.widget-view+json": {
       "model_id": "c89a39fa85534e8a90dda596e66e4564",
       "version_major": 2,
       "version_minor": 0
      },
      "text/plain": [
       "  0%|          | 0/200 [00:00<?, ?it/s]"
      ]
     },
     "metadata": {},
     "output_type": "display_data"
    },
    {
     "name": "stdout",
     "output_type": "stream",
     "text": [
      "0.0 0.961\n"
     ]
    },
    {
     "data": {
      "image/png": "[encoded data removed]",
      "text/plain": [
       "<Figure size 640x480 with 1 Axes>"
      ]
     },
     "metadata": {},
     "output_type": "display_data"
    }
   ],
   "source": [
    "from utils.render import save_frames_as_gif\n",
    "\n",
    "from IPython.display import Image\n",
    "from tqdm.notebook import tqdm\n",
    "import gym\n",
    "\n",
    "import numpy as np\n",
    "\n",
    "# agent = PPORNNDiscrete(gae_estimator(discount, 0.95), clip_ratio, ppo_steps)\n",
    "\n",
    "actor = carry[0]\n",
    "\n",
    "key = jax.random.PRNGKey(12)\n",
    "\n",
    "c = nn.OptimizedLSTMCell(hidden_size, parent=None).initialize_carry(key, (1, hidden_size))\n",
    "done = jnp.ones((1, 1, 1))\n",
    "\n",
    "obs, state = env.reset(key, env_params)\n",
    "\n",
    "last_pos = state.pos\n",
    "\n",
    "print(last_pos)\n",
    "\n",
    "vis = env.visualize_state(state)\n",
    "\n",
    "plt.imshow(vis)\n",
    "\n",
    "positions = [last_pos]\n",
    "\n",
    "r = 0\n",
    "\n",
    "frames = []\n",
    "for t in tqdm(range(200)):\n",
    "    \n",
    "    c, action = agent.suggest_action(jnp.expand_dims(obs, (0, 1)), c, jnp.reshape(done, (1, 1)), actor)\n",
    "    action = action.item()\n",
    "\n",
    "    # print(action)\n",
    "\n",
    "    # plt.imshow(env.visualize_obs(jnp.reshape(obs, (3, 3, 3))))\n",
    "    # plt.show()\n",
    "    \n",
    "    obs, state, reward, done, _ = env.step(key, state, action, env_params)\n",
    "\n",
    "    if done:\n",
    "        break\n",
    "\n",
    "    plt.plot([last_pos[1], state.pos[1]], [last_pos[0], state.pos[0]])\n",
    "    last_pos = state.pos\n",
    "\n",
    "    r += reward\n",
    "\n",
    "    positions.append(last_pos)\n",
    "\n",
    "    # break\n",
    "\n",
    "print(r, reward)\n",
    "plt.show()"
   ]
  },
  {
   "cell_type": "code",
   "execution_count": 34,
   "id": "b50343b2-244e-4b86-bc72-b125e9dd59f2",
   "metadata": {},
   "outputs": [
    {
     "data": {
      "text/plain": [
       "Array([[0, 0, 0],\n",
       "       [0, 1, 0],\n",
       "       [0, 0, 0]], dtype=int32, weak_type=True)"
      ]
     },
     "execution_count": 34,
     "metadata": {},
     "output_type": "execute_result"
    }
   ],
   "source": [
    "obs[:, :, 1]"
   ]
  },
  {
   "cell_type": "code",
   "execution_count": 44,
   "id": "0e23dfbe-0c74-4ad5-a2b3-c4fde771cdcb",
   "metadata": {},
   "outputs": [
    {
     "data": {
      "text/plain": [
       "1"
      ]
     },
     "execution_count": 44,
     "metadata": {},
     "output_type": "execute_result"
    }
   ],
   "source": [
    "action"
   ]
  },
  {
   "cell_type": "code",
   "execution_count": 45,
   "id": "14626c82-f951-4b17-ade3-796fe81d5fc1",
   "metadata": {},
   "outputs": [
    {
     "data": {
      "text/plain": [
       "[Array([8, 4], dtype=int32),\n",
       " Array([7, 4], dtype=int32),\n",
       " Array([7, 4], dtype=int32),\n",
       " Array([7, 5], dtype=int32),\n",
       " Array([7, 6], dtype=int32),\n",
       " Array([7, 7], dtype=int32),\n",
       " Array([7, 8], dtype=int32),\n",
       " Array([7, 9], dtype=int32),\n",
       " Array([8, 9], dtype=int32),\n",
       " Array([9, 9], dtype=int32),\n",
       " Array([8, 9], dtype=int32),\n",
       " Array([7, 9], dtype=int32),\n",
       " Array([6, 9], dtype=int32),\n",
       " Array([5, 9], dtype=int32),\n",
       " Array([4, 9], dtype=int32),\n",
       " Array([3, 9], dtype=int32),\n",
       " Array([2, 9], dtype=int32),\n",
       " Array([1, 9], dtype=int32),\n",
       " Array([0, 9], dtype=int32),\n",
       " Array([0, 8], dtype=int32),\n",
       " Array([0, 7], dtype=int32),\n",
       " Array([0, 6], dtype=int32),\n",
       " Array([0, 6], dtype=int32),\n",
       " Array([0, 6], dtype=int32),\n",
       " Array([0, 6], dtype=int32),\n",
       " Array([0, 6], dtype=int32),\n",
       " Array([0, 6], dtype=int32),\n",
       " Array([0, 6], dtype=int32),\n",
       " Array([0, 6], dtype=int32),\n",
       " Array([0, 6], dtype=int32),\n",
       " Array([0, 6], dtype=int32),\n",
       " Array([0, 6], dtype=int32),\n",
       " Array([0, 6], dtype=int32),\n",
       " Array([0, 6], dtype=int32),\n",
       " Array([0, 6], dtype=int32),\n",
       " Array([0, 6], dtype=int32),\n",
       " Array([0, 6], dtype=int32),\n",
       " Array([0, 6], dtype=int32),\n",
       " Array([0, 6], dtype=int32),\n",
       " Array([0, 6], dtype=int32),\n",
       " Array([0, 6], dtype=int32),\n",
       " Array([0, 6], dtype=int32),\n",
       " Array([0, 6], dtype=int32),\n",
       " Array([0, 6], dtype=int32),\n",
       " Array([0, 6], dtype=int32),\n",
       " Array([0, 6], dtype=int32),\n",
       " Array([0, 6], dtype=int32),\n",
       " Array([0, 6], dtype=int32),\n",
       " Array([0, 6], dtype=int32),\n",
       " Array([0, 6], dtype=int32),\n",
       " Array([0, 6], dtype=int32),\n",
       " Array([0, 6], dtype=int32),\n",
       " Array([0, 6], dtype=int32),\n",
       " Array([0, 6], dtype=int32),\n",
       " Array([0, 6], dtype=int32),\n",
       " Array([0, 6], dtype=int32),\n",
       " Array([0, 6], dtype=int32),\n",
       " Array([0, 6], dtype=int32),\n",
       " Array([0, 6], dtype=int32),\n",
       " Array([0, 6], dtype=int32),\n",
       " Array([0, 6], dtype=int32),\n",
       " Array([0, 6], dtype=int32),\n",
       " Array([0, 6], dtype=int32),\n",
       " Array([0, 6], dtype=int32),\n",
       " Array([0, 6], dtype=int32),\n",
       " Array([0, 6], dtype=int32),\n",
       " Array([0, 6], dtype=int32),\n",
       " Array([0, 6], dtype=int32),\n",
       " Array([0, 6], dtype=int32),\n",
       " Array([0, 6], dtype=int32),\n",
       " Array([0, 6], dtype=int32),\n",
       " Array([0, 6], dtype=int32),\n",
       " Array([0, 6], dtype=int32),\n",
       " Array([0, 6], dtype=int32),\n",
       " Array([0, 6], dtype=int32),\n",
       " Array([0, 6], dtype=int32),\n",
       " Array([0, 6], dtype=int32),\n",
       " Array([0, 6], dtype=int32),\n",
       " Array([0, 6], dtype=int32),\n",
       " Array([0, 6], dtype=int32),\n",
       " Array([0, 6], dtype=int32),\n",
       " Array([0, 6], dtype=int32),\n",
       " Array([0, 6], dtype=int32),\n",
       " Array([0, 6], dtype=int32),\n",
       " Array([0, 6], dtype=int32),\n",
       " Array([0, 6], dtype=int32),\n",
       " Array([0, 6], dtype=int32),\n",
       " Array([0, 6], dtype=int32),\n",
       " Array([0, 6], dtype=int32),\n",
       " Array([0, 6], dtype=int32),\n",
       " Array([0, 6], dtype=int32),\n",
       " Array([0, 6], dtype=int32),\n",
       " Array([0, 6], dtype=int32),\n",
       " Array([0, 6], dtype=int32),\n",
       " Array([0, 6], dtype=int32),\n",
       " Array([0, 6], dtype=int32),\n",
       " Array([0, 6], dtype=int32),\n",
       " Array([0, 6], dtype=int32),\n",
       " Array([0, 6], dtype=int32),\n",
       " Array([0, 6], dtype=int32),\n",
       " Array([0, 6], dtype=int32),\n",
       " Array([0, 6], dtype=int32),\n",
       " Array([0, 6], dtype=int32),\n",
       " Array([0, 6], dtype=int32),\n",
       " Array([0, 6], dtype=int32),\n",
       " Array([0, 6], dtype=int32),\n",
       " Array([0, 6], dtype=int32),\n",
       " Array([0, 6], dtype=int32),\n",
       " Array([0, 6], dtype=int32),\n",
       " Array([0, 6], dtype=int32),\n",
       " Array([0, 6], dtype=int32),\n",
       " Array([0, 6], dtype=int32),\n",
       " Array([0, 6], dtype=int32),\n",
       " Array([0, 6], dtype=int32),\n",
       " Array([0, 6], dtype=int32),\n",
       " Array([0, 6], dtype=int32),\n",
       " Array([0, 6], dtype=int32),\n",
       " Array([0, 6], dtype=int32),\n",
       " Array([0, 6], dtype=int32),\n",
       " Array([0, 6], dtype=int32),\n",
       " Array([0, 6], dtype=int32),\n",
       " Array([0, 6], dtype=int32),\n",
       " Array([0, 6], dtype=int32),\n",
       " Array([0, 6], dtype=int32),\n",
       " Array([0, 6], dtype=int32),\n",
       " Array([0, 6], dtype=int32),\n",
       " Array([0, 6], dtype=int32),\n",
       " Array([0, 6], dtype=int32),\n",
       " Array([0, 6], dtype=int32),\n",
       " Array([0, 6], dtype=int32),\n",
       " Array([0, 6], dtype=int32),\n",
       " Array([0, 6], dtype=int32),\n",
       " Array([0, 6], dtype=int32),\n",
       " Array([0, 6], dtype=int32),\n",
       " Array([0, 6], dtype=int32),\n",
       " Array([0, 6], dtype=int32),\n",
       " Array([0, 6], dtype=int32),\n",
       " Array([0, 6], dtype=int32),\n",
       " Array([0, 6], dtype=int32),\n",
       " Array([0, 6], dtype=int32),\n",
       " Array([0, 6], dtype=int32),\n",
       " Array([0, 6], dtype=int32),\n",
       " Array([0, 6], dtype=int32),\n",
       " Array([0, 6], dtype=int32),\n",
       " Array([0, 6], dtype=int32),\n",
       " Array([0, 6], dtype=int32),\n",
       " Array([0, 6], dtype=int32),\n",
       " Array([0, 6], dtype=int32),\n",
       " Array([0, 6], dtype=int32),\n",
       " Array([0, 6], dtype=int32),\n",
       " Array([0, 6], dtype=int32),\n",
       " Array([0, 6], dtype=int32),\n",
       " Array([0, 6], dtype=int32),\n",
       " Array([0, 6], dtype=int32),\n",
       " Array([0, 6], dtype=int32),\n",
       " Array([0, 6], dtype=int32),\n",
       " Array([0, 6], dtype=int32),\n",
       " Array([0, 6], dtype=int32),\n",
       " Array([0, 6], dtype=int32),\n",
       " Array([0, 6], dtype=int32),\n",
       " Array([0, 6], dtype=int32),\n",
       " Array([0, 6], dtype=int32),\n",
       " Array([0, 6], dtype=int32),\n",
       " Array([0, 6], dtype=int32),\n",
       " Array([0, 6], dtype=int32),\n",
       " Array([0, 6], dtype=int32),\n",
       " Array([0, 6], dtype=int32),\n",
       " Array([0, 6], dtype=int32),\n",
       " Array([0, 6], dtype=int32),\n",
       " Array([0, 6], dtype=int32),\n",
       " Array([0, 6], dtype=int32),\n",
       " Array([0, 6], dtype=int32),\n",
       " Array([0, 6], dtype=int32),\n",
       " Array([0, 6], dtype=int32),\n",
       " Array([0, 6], dtype=int32),\n",
       " Array([0, 6], dtype=int32),\n",
       " Array([0, 6], dtype=int32),\n",
       " Array([0, 6], dtype=int32),\n",
       " Array([0, 6], dtype=int32),\n",
       " Array([0, 6], dtype=int32),\n",
       " Array([0, 6], dtype=int32),\n",
       " Array([0, 6], dtype=int32),\n",
       " Array([0, 6], dtype=int32),\n",
       " Array([0, 6], dtype=int32),\n",
       " Array([0, 6], dtype=int32),\n",
       " Array([0, 6], dtype=int32),\n",
       " Array([0, 6], dtype=int32),\n",
       " Array([0, 6], dtype=int32),\n",
       " Array([0, 6], dtype=int32),\n",
       " Array([0, 6], dtype=int32),\n",
       " Array([0, 6], dtype=int32),\n",
       " Array([0, 6], dtype=int32),\n",
       " Array([0, 6], dtype=int32),\n",
       " Array([0, 6], dtype=int32),\n",
       " Array([0, 6], dtype=int32),\n",
       " Array([0, 6], dtype=int32),\n",
       " Array([0, 6], dtype=int32),\n",
       " Array([0, 6], dtype=int32),\n",
       " Array([0, 6], dtype=int32),\n",
       " Array([0, 6], dtype=int32),\n",
       " Array([0, 6], dtype=int32)]"
      ]
     },
     "execution_count": 45,
     "metadata": {},
     "output_type": "execute_result"
    }
   ],
   "source": [
    "positions"
   ]
  },
  {
   "cell_type": "code",
   "execution_count": 13,
   "id": "85aacd67-7017-46bf-84c2-c8db7ddc52d6",
   "metadata": {},
   "outputs": [
    {
     "data": {
      "text/plain": [
       "Array([4, 7], dtype=int32)"
      ]
     },
     "execution_count": 13,
     "metadata": {},
     "output_type": "execute_result"
    }
   ],
   "source": [
    "state.pos"
   ]
  },
  {
   "cell_type": "code",
   "execution_count": 14,
   "id": "637c8780-545d-4d35-aed4-ddd1efc76297",
   "metadata": {},
   "outputs": [
    {
     "data": {
      "image/png": "[encoded data removed]",
      "text/plain": [
       "<Figure size 640x480 with 1 Axes>"
      ]
     },
     "metadata": {},
     "output_type": "display_data"
    }
   ],
   "source": [
    "plt.imshow(env.visualize_obs(jnp.reshape(obs, (3, 3, 3))))\n",
    "plt.show()"
   ]
  },
  {
   "cell_type": "code",
   "execution_count": 15,
   "id": "c7348789-0ba9-4fc1-b693-78bdbc0632db",
   "metadata": {},
   "outputs": [
    {
     "data": {
      "text/plain": [
       "Array(True, dtype=bool)"
      ]
     },
     "execution_count": 15,
     "metadata": {},
     "output_type": "execute_result"
    }
   ],
   "source": [
    "done"
   ]
  },
  {
   "cell_type": "code",
   "execution_count": 16,
   "id": "850c051a-bf86-4232-be40-7e397d3ae81c",
   "metadata": {},
   "outputs": [
    {
     "data": {
      "text/plain": [
       "[<matplotlib.lines.Line2D at 0x7fe61d2a0490>]"
      ]
     },
     "execution_count": 16,
     "metadata": {},
     "output_type": "execute_result"
    },
    {
     "data": {
      "image/png": "[encoded data removed]",
      "text/plain": [
       "<Figure size 640x480 with 1 Axes>"
      ]
     },
     "metadata": {},
     "output_type": "display_data"
    }
   ],
   "source": [
    "plt.imshow(vis)\n",
    "plt.plot([0, 5], [2, 2])"
   ]
  },
  {
   "cell_type": "code",
   "execution_count": null,
   "id": "f53d61d1-1819-4a8d-9884-077ae45df6f0",
   "metadata": {},
   "outputs": [],
   "source": []
  }
 ],
 "metadata": {
  "kernelspec": {
   "display_name": "Python 3 (ipykernel)",
   "language": "python",
   "name": "python3"
  },
  "language_info": {
   "codemirror_mode": {
    "name": "ipython",
    "version": 3
   },
   "file_extension": ".py",
   "mimetype": "text/x-python",
   "name": "python",
   "nbconvert_exporter": "python",
   "pygments_lexer": "ipython3",
   "version": "3.10.12"
  }
 },
 "nbformat": 4,
 "nbformat_minor": 5
}
