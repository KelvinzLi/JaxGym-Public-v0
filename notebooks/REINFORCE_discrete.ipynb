{
 "cells": [
  {
   "cell_type": "code",
   "execution_count": 1,
   "id": "810b057c-be6b-4fec-b01c-02b2654b497d",
   "metadata": {},
   "outputs": [],
   "source": [
    "%load_ext autoreload\n",
    "%autoreload 2"
   ]
  },
  {
   "cell_type": "code",
   "execution_count": 2,
   "id": "56ec0cf4-8dfc-420f-9b2f-e9b23d61ba25",
   "metadata": {},
   "outputs": [],
   "source": [
    "import sys\n",
    "\n",
    "sys.path.append(\"/notebooks/JAXGym\")"
   ]
  },
  {
   "cell_type": "code",
   "execution_count": 3,
   "id": "8cedc973-6baa-420b-bb88-977825507bf1",
   "metadata": {},
   "outputs": [
    {
     "data": {
      "text/plain": [
       "['/usr/lib/python310.zip',\n",
       " '/usr/lib/python3.10',\n",
       " '/usr/lib/python3.10/lib-dynload',\n",
       " '',\n",
       " '/usr/local/lib/python3.10/dist-packages',\n",
       " '__editable__.flax-0.8.2.finder.__path_hook__',\n",
       " '/opt/pip/src',\n",
       " '/opt/praxis',\n",
       " '/opt/paxml',\n",
       " '/usr/lib/python3/dist-packages',\n",
       " '/notebooks/JAXGym']"
      ]
     },
     "execution_count": 3,
     "metadata": {},
     "output_type": "execute_result"
    }
   ],
   "source": [
    "sys.path"
   ]
  },
  {
   "cell_type": "code",
   "execution_count": 4,
   "id": "e3b8056e-fc12-4db0-99d5-a408c39a3b61",
   "metadata": {},
   "outputs": [],
   "source": [
    "import jax\n",
    "import jax.numpy as jnp\n",
    "\n",
    "import flax\n",
    "from flax import linen as nn  # Linen API\n",
    "from flax.training import train_state  # Useful dataclass to keep train state\n",
    "from flax import struct                # Flax dataclasses\n",
    "import optax                           # Common loss functions and optimizers\n",
    "\n",
    "from flax.training.train_state import TrainState\n",
    "\n",
    "import gymnax\n",
    "\n",
    "import matplotlib.pyplot as plt"
   ]
  },
  {
   "cell_type": "code",
   "execution_count": 10,
   "id": "091580b0-dd1f-4249-891d-9d8dd5c8b080",
   "metadata": {},
   "outputs": [],
   "source": [
    "from models.base_model import BaseModel\n",
    "from agents.REINFORCE_discrete import ActorCriticDiscrete\n",
    "from trainer import build_trainer # Trainer # "
   ]
  },
  {
   "cell_type": "code",
   "execution_count": 6,
   "id": "394865f6-13b6-4aae-a703-fa3f13bad79b",
   "metadata": {},
   "outputs": [],
   "source": [
    "actor_lr = 1e-4\n",
    "critic_lr = 1e-3\n",
    "\n",
    "discount = 0.99\n",
    "\n",
    "iters = 10000\n",
    "\n",
    "max_episode_steps = 500\n",
    "\n",
    "env_name = \"CartPole-v1\""
   ]
  },
  {
   "cell_type": "code",
   "execution_count": 7,
   "id": "90e7bb76-b55a-4180-bc44-f4c2be83dc9e",
   "metadata": {},
   "outputs": [],
   "source": [
    "env, env_params = gymnax.make(env_name)\n",
    "\n",
    "obs_size = env.observation_space(env_params).shape[0]\n",
    "action_size = env.action_space(env_params).n"
   ]
  },
  {
   "cell_type": "code",
   "execution_count": 11,
   "id": "8d526b08-acb9-4d46-a12d-bd9c160a5e80",
   "metadata": {},
   "outputs": [],
   "source": [
    "cpu_device = jax.devices('cpu')[0]\n",
    "gpu_device = jax.devices('gpu')[0]\n",
    "\n",
    "with jax.default_device(cpu_device):\n",
    "    key = jax.random.PRNGKey(42)\n",
    "    \n",
    "    dummy = jnp.ones([1, obs_size])\n",
    "    actor_init_key, critic_init_key, key = jax.random.split(key, 3)\n",
    "    \n",
    "    actor_model = nn.Sequential([BaseModel(), nn.Dense(features = action_size)])\n",
    "    actor_params = actor_model.init(actor_init_key, dummy)['params']\n",
    "    actor_tx = optax.adam(actor_lr)\n",
    "    actor = TrainState.create(apply_fn=actor_model.apply,\n",
    "                              params=actor_params,\n",
    "                              tx=actor_tx,\n",
    "                              )\n",
    "    \n",
    "    critic_model = nn.Sequential([BaseModel(), nn.Dense(features = 1)])\n",
    "    critic_params = critic_model.init(critic_init_key, dummy)['params']\n",
    "    critic_tx = optax.adam(critic_lr)\n",
    "    critic = TrainState.create(apply_fn=critic_model.apply,\n",
    "                              params=critic_params,\n",
    "                              tx=critic_tx,\n",
    "                              )\n",
    "    \n",
    "    agent = ActorCriticDiscrete(discount)\n",
    "    \n",
    "    all_rewards = jnp.zeros((iters, 1))\n",
    "    \n",
    "    fori_body = build_trainer(agent, env, env_params, obs_size, max_episode_steps)\n",
    "    \n",
    "    carry = (actor, critic, all_rewards, key)\n",
    "    carry = jax.lax.fori_loop(0, iters, fori_body, carry)"
   ]
  },
  {
   "cell_type": "code",
   "execution_count": 12,
   "id": "647c4a4b-e38d-492c-a710-9e59355f3ff6",
   "metadata": {},
   "outputs": [
    {
     "data": {
      "image/png": "[encoded data removed]",
      "text/plain": [
       "<Figure size 640x480 with 1 Axes>"
      ]
     },
     "metadata": {},
     "output_type": "display_data"
    }
   ],
   "source": [
    "plt.plot(carry[-2][:])\n",
    "plt.show()"
   ]
  }
 ],
 "metadata": {
  "kernelspec": {
   "display_name": "Python 3 (ipykernel)",
   "language": "python",
   "name": "python3"
  },
  "language_info": {
   "codemirror_mode": {
    "name": "ipython",
    "version": 3
   },
   "file_extension": ".py",
   "mimetype": "text/x-python",
   "name": "python",
   "nbconvert_exporter": "python",
   "pygments_lexer": "ipython3",
   "version": "3.10.12"
  }
 },
 "nbformat": 4,
 "nbformat_minor": 5
}
